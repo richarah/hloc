{
 "cells": [
  {
   "cell_type": "markdown",
   "metadata": {},
   "source": [
    "# ChArUco Diamond Detection\n",
    "\n",
    "This notebook demonstrates how to detect ChArUco Diamond markers using OpenCV.\n",
    "ChArUco Diamonds are composed of 4 ArUco markers arranged in a diamond pattern."
   ]
  },
  {
   "cell_type": "code",
   "execution_count": null,
   "metadata": {},
   "outputs": [],
   "source": [
    "import cv2\n",
    "import numpy as np\n",
    "import matplotlib.pyplot as plt\n",
    "import requests\n",
    "from io import BytesIO\n",
    "from PIL import Image"
   ]
  },
  {
   "cell_type": "markdown",
   "metadata": {},
   "source": [
    "## Download Test Image\n",
    "\n",
    "Download the diamond markers test image from OpenCV documentation."
   ]
  },
  {
   "cell_type": "code",
   "execution_count": null,
   "metadata": {},
   "outputs": [],
   "source": [
    "# Download the test image\n",
    "url = \"https://docs.opencv.org/4.x/diamondmarkers.jpg\"\n",
    "response = requests.get(url)\n",
    "image = Image.open(BytesIO(response.content))\n",
    "\n",
    "# Convert PIL image to OpenCV format\n",
    "image_cv = cv2.cvtColor(np.array(image), cv2.COLOR_RGB2BGR)\n",
    "image_rgb = cv2.cvtColor(image_cv, cv2.COLOR_BGR2RGB)\n",
    "\n",
    "# Display the original image\n",
    "plt.figure(figsize=(12, 8))\n",
    "plt.imshow(image_rgb)\n",
    "plt.title('Original Image with ChArUco Diamond Markers')\n",
    "plt.axis('off')\n",
    "plt.show()\n",
    "\n",
    "print(f\"Image shape: {image_cv.shape}\")"
   ]
  },
  {
   "cell_type": "markdown",
   "metadata": {},
   "source": [
    "## Setup ArUco Dictionary and Parameters\n",
    "\n",
    "Configure the ArUco dictionary and detection parameters."
   ]
  },
  {
   "cell_type": "code",
   "execution_count": null,
   "metadata": {},
   "outputs": [],
   "source": [
    "# Create ArUco dictionary (6x6 with 250 markers)\n",
    "aruco_dict = cv2.aruco.Dictionary_get(cv2.aruco.DICT_6X6_250)\n",
    "\n",
    "# Create detector parameters\n",
    "parameters = cv2.aruco.DetectorParameters_create()\n",
    "\n",
    "# Optional: Adjust detection parameters for better accuracy\n",
    "parameters.adaptiveThreshWinSizeMin = 3\n",
    "parameters.adaptiveThreshWinSizeMax = 23\n",
    "parameters.adaptiveThreshWinSizeStep = 10\n",
    "parameters.adaptiveThreshConstant = 7\n",
    "parameters.minMarkerPerimeterRate = 0.03\n",
    "parameters.maxMarkerPerimeterRate = 4.0\n",
    "parameters.polygonalApproxAccuracyRate = 0.03\n",
    "parameters.minCornerDistanceRate = 0.05\n",
    "parameters.minDistanceToBorder = 3\n",
    "parameters.minMarkerDistanceRate = 0.05\n",
    "parameters.cornerRefinementMethod = cv2.aruco.CORNER_REFINE_SUBPIX\n",
    "parameters.cornerRefinementWinSize = 5\n",
    "parameters.cornerRefinementMaxIterations = 30\n",
    "parameters.cornerRefinementMinAccuracy = 0.1\n",
    "parameters.markerBorderBits = 1\n",
    "parameters.perspectiveRemovePixelPerCell = 4\n",
    "parameters.perspectiveRemoveIgnoredMarginPerCell = 0.13\n",
    "parameters.maxErroneousBitsInBorderRate = 0.35\n",
    "parameters.minOtsuStdDev = 5.0\n",
    "parameters.errorCorrectionRate = 0.6\n",
    "\n",
    "print(\"ArUco dictionary and parameters configured.\")"
   ]
  },
  {
   "cell_type": "markdown",
   "metadata": {},
   "source": [
    "## Detect ArUco Markers\n",
    "\n",
    "First, we need to detect individual ArUco markers before we can find diamonds."
   ]
  },
  {
   "cell_type": "code",
   "execution_count": null,
   "metadata": {},
   "outputs": [],
   "source": [
    "# Convert to grayscale for marker detection\n",
    "gray = cv2.cvtColor(image_cv, cv2.COLOR_BGR2GRAY)\n",
    "\n",
    "# Detect ArUco markers\n",
    "marker_corners, marker_ids, rejected_candidates = cv2.aruco.detectMarkers(\n",
    "    gray, aruco_dict, parameters=parameters\n",
    ")\n",
    "\n",
    "print(f\"Detected {len(marker_corners)} ArUco markers\")\n",
    "if marker_ids is not None:\n",
    "    print(f\"Marker IDs: {marker_ids.flatten()}\")\n",
    "\n",
    "# Visualize detected markers\n",
    "image_with_markers = image_cv.copy()\n",
    "if len(marker_corners) > 0:\n",
    "    cv2.aruco.drawDetectedMarkers(image_with_markers, marker_corners, marker_ids)\n",
    "\n",
    "# Display result\n",
    "plt.figure(figsize=(12, 8))\n",
    "plt.imshow(cv2.cvtColor(image_with_markers, cv2.COLOR_BGR2RGB))\n",
    "plt.title(f'Detected ArUco Markers ({len(marker_corners)} found)')\n",
    "plt.axis('off')\n",
    "plt.show()"
   ]
  },
  {
   "cell_type": "markdown",
   "metadata": {},
   "source": [
    "## Detect ChArUco Diamond Markers\n",
    "\n",
    "Now detect ChArUco Diamond markers using the detected ArUco markers."
   ]
  },
  {
   "cell_type": "code",
   "execution_count": null,
   "metadata": {},
   "outputs": [],
   "source": [
    "# Parameters for diamond detection\n",
    "square_marker_length_rate = 1.0  # Rate between square and marker length\n",
    "\n",
    "# Detect ChArUco Diamond markers\n",
    "diamond_corners, diamond_ids = cv2.aruco.detectCharucoDiamond(\n",
    "    gray,\n",
    "    marker_corners,\n",
    "    marker_ids,\n",
    "    square_marker_length_rate\n",
    ")\n",
    "\n",
    "print(f\"Detected {len(diamond_corners)} ChArUco Diamond markers\")\n",
    "if diamond_ids is not None:\n",
    "    print(f\"Diamond IDs: {diamond_ids}\")\n",
    "    for i, diamond_id in enumerate(diamond_ids):\n",
    "        print(f\"Diamond {i}: composed of markers {diamond_id.flatten()}\")\n",
    "\n",
    "# Visualize detected diamonds\n",
    "image_with_diamonds = image_cv.copy()\n",
    "\n",
    "# Draw detected markers first\n",
    "if len(marker_corners) > 0:\n",
    "    cv2.aruco.drawDetectedMarkers(image_with_diamonds, marker_corners, marker_ids)\n",
    "\n",
    "# Draw detected diamonds\n",
    "if len(diamond_corners) > 0:\n",
    "    cv2.aruco.drawDetectedDiamonds(image_with_diamonds, diamond_corners, diamond_ids)\n",
    "\n",
    "# Display result\n",
    "plt.figure(figsize=(12, 8))\n",
    "plt.imshow(cv2.cvtColor(image_with_diamonds, cv2.COLOR_BGR2RGB))\n",
    "plt.title(f'Detected ChArUco Diamonds ({len(diamond_corners)} found)')\n",
    "plt.axis('off')\n",
    "plt.show()"
   ]
  },
  {
   "cell_type": "markdown",
   "metadata": {},
   "source": [
    "## Detailed Diamond Analysis\n",
    "\n",
    "Analyze the detected diamonds in detail."
   ]
  },
  {
   "cell_type": "code",
   "execution_count": null,
   "metadata": {},
   "outputs": [],
   "source": [
    "if len(diamond_corners) > 0:\n",
    "    print(\"\\nDetailed Diamond Analysis:\")\n",
    "    print(\"=\" * 50)\n",
    "    \n",
    "    for i, (corners, ids) in enumerate(zip(diamond_corners, diamond_ids)):\n",
    "        print(f\"\\nDiamond {i + 1}:\")\n",
    "        print(f\"  Composed of ArUco markers: {ids.flatten()}\")\n",
    "        print(f\"  Corner coordinates:\")\n",
    "        \n",
    "        corner_names = [\"Top-left\", \"Top-right\", \"Bottom-right\", \"Bottom-left\"]\n",
    "        for j, corner in enumerate(corners[0]):\n",
    "            print(f\"    {corner_names[j]}: ({corner[0]:.2f}, {corner[1]:.2f})\")\n",
    "        \n",
    "        # Calculate diamond center\n",
    "        center_x = np.mean(corners[0][:, 0])\n",
    "        center_y = np.mean(corners[0][:, 1])\n",
    "        print(f\"  Center: ({center_x:.2f}, {center_y:.2f})\")\n",
    "        \n",
    "        # Calculate diamond area (approximate)\n",
    "        area = cv2.contourArea(corners[0].astype(np.float32))\n",
    "        print(f\"  Area: {area:.2f} pixels²\")\n",
    "else:\n",
    "    print(\"No ChArUco Diamond markers detected.\")\n",
    "    print(\"\\nPossible reasons:\")\n",
    "    print(\"1. The image doesn't contain diamond patterns\")\n",
    "    print(\"2. The square_marker_length_rate parameter needs adjustment\")\n",
    "    print(\"3. ArUco markers aren't arranged in diamond configuration\")\n",
    "    print(\"4. Detection parameters need tuning\")"
   ]
  },
  {
   "cell_type": "markdown",
   "metadata": {},
   "source": [
    "## Alternative Detection with Different Parameters\n",
    "\n",
    "Try different square_marker_length_rate values if initial detection fails."
   ]
  },
  {
   "cell_type": "code",
   "execution_count": null,
   "metadata": {},
   "outputs": [],
   "source": [
    "# Try different square_marker_length_rate values\n",
    "rates_to_try = [0.5, 0.8, 1.0, 1.2, 1.5, 2.0]\n",
    "\n",
    "print(\"Testing different square_marker_length_rate values:\")\n",
    "print(\"=\" * 60)\n",
    "\n",
    "best_rate = None\n",
    "max_diamonds = 0\n",
    "\n",
    "for rate in rates_to_try:\n",
    "    diamond_corners_test, diamond_ids_test = cv2.aruco.detectCharucoDiamond(\n",
    "        gray,\n",
    "        marker_corners,\n",
    "        marker_ids,\n",
    "        rate\n",
    "    )\n",
    "    \n",
    "    num_diamonds = len(diamond_corners_test)\n",
    "    print(f\"Rate {rate:4.1f}: {num_diamonds} diamonds detected\")\n",
    "    \n",
    "    if num_diamonds > max_diamonds:\n",
    "        max_diamonds = num_diamonds\n",
    "        best_rate = rate\n",
    "\n",
    "if best_rate is not None:\n",
    "    print(f\"\\nBest rate: {best_rate} (detected {max_diamonds} diamonds)\")\n",
    "else:\n",
    "    print(\"\\nNo diamonds detected with any rate.\")"
   ]
  },
  {
   "cell_type": "markdown",
   "metadata": {},
   "source": [
    "## Summary\n",
    "\n",
    "This notebook demonstrates the complete pipeline for detecting ChArUco Diamond markers:\n",
    "\n",
    "1. **Load image** from URL\n",
    "2. **Configure ArUco dictionary** and detection parameters\n",
    "3. **Detect individual ArUco markers** using `cv2.aruco.detectMarkers()`\n",
    "4. **Detect ChArUco Diamonds** using `cv2.aruco.detectCharucoDiamond()`\n",
    "5. **Visualize results** with detected markers and diamonds\n",
    "6. **Analyze detected diamonds** with detailed corner and geometric information\n",
    "\n",
    "### Key Parameters:\n",
    "- **`square_marker_length_rate`**: Critical parameter representing the ratio between the square length and marker length in the diamond pattern\n",
    "- **ArUco dictionary**: Must match the markers in the image (DICT_6X6_250 is common)\n",
    "- **Detection parameters**: Can be tuned for better accuracy depending on image quality\n",
    "\n",
    "### Use Cases:\n",
    "- **Camera calibration**: Diamonds provide precise corner points\n",
    "- **Pose estimation**: More robust than individual markers\n",
    "- **Tracking**: Better stability for augmented reality applications"
   ]
  }
 ],
 "metadata": {
  "kernelspec": {
   "display_name": "Python 3",
   "language": "python",
   "name": "python3"
  },
  "language_info": {
   "codemirror_mode": {
    "name": "ipython",
    "version": 3
   },
   "file_extension": ".py",
   "mimetype": "text/x-python",
   "name": "python",
   "nbconvert_exporter": "python",
   "pygments_lexer": "ipython3",
   "version": "3.8.10"
  }
 },
 "nbformat": 4,
 "nbformat_minor": 4
}